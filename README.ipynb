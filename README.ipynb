{
 "cells": [
  {
   "cell_type": "markdown",
   "metadata": {},
   "source": [
    "# Graphical User Interface for IEX Cloud REST API\n",
    "\n",
    "#### Eric Stevens\n",
    "\n",
    "\n",
    "## A note to the grader\n",
    "\n",
    "One of the main concepts I was drawn towards in the course was the power of PyCharm. I took it to heart and have begun using it for all my projects. That being said. This is the first project I have ever done using the PyCharm project environment and I am still learning the organization of projects and how the virtual environment aspect of projects work. \n",
    "\n",
    "That being said, if I am unable to zip and submit the program files the repository can be cloned from github.\n",
    "\n",
    "```\n",
    "git clone \n",
    "```\n",
    "\n",
    "\n",
    "## Running the GUI\n",
    "\n",
    "### Running in PyCharm\n",
    "The easiest way to run the application is to open the project in a PyCharm environment, ensure that the interpreter you are using has access to the required libraries and run the `MainGUI.py` script which can be found in the `ui_files` project sub-directory. If the proper libraries are accessible, the user interface should pop up. **I have left my user tokens in the login page. Feel free to use them. You can see the allowances on upon login.**\n",
    "\n",
    "### Running outside of PyCharm\n",
    "I do not recommend running the project outside of the PyCharm environment. If you choose to you will have to add the project directory to the `PYTHONPATH` environment variable. This can be done on Unix systems by navigating to the project directory and executing the line export `PYTHONPATH=.`. \n",
    "\n",
    "\n",
    "## Required Packages\n",
    "\n",
    "In order to run the GUI the following packages must be accessible from the interpreter you choose to use.\n",
    "\n",
    "```\n",
    "numpy\n",
    "matplotlib\n",
    "json\n",
    "datetime\n",
    "requests\n",
    "pyqt5\n",
    "```\n"
   ]
  }
 ],
 "metadata": {
  "kernelspec": {
   "display_name": "Python 3",
   "language": "python",
   "name": "python3"
  },
  "language_info": {
   "codemirror_mode": {
    "name": "ipython",
    "version": 3
   },
   "file_extension": ".py",
   "mimetype": "text/x-python",
   "name": "python",
   "nbconvert_exporter": "python",
   "pygments_lexer": "ipython3",
   "version": "3.6.6"
  }
 },
 "nbformat": 4,
 "nbformat_minor": 2
}
